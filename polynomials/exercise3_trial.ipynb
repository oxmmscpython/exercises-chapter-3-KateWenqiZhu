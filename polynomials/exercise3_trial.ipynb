{
 "cells": [
  {
   "cell_type": "code",
   "execution_count": 107,
   "metadata": {},
   "outputs": [],
   "source": [
    "from numbers import Number\n",
    "import numpy\n",
    "from numpy import convolve\n",
    "\n",
    "class Polynomial:\n",
    "\n",
    "    def __init__(self, coefs):\n",
    "        self.coefficients = coefs\n",
    "\n",
    "    def degree(self):\n",
    "        return len(self.coefficients) - 1\n",
    "\n",
    "    def __str__(self):\n",
    "        coefs = self.coefficients\n",
    "        terms = []\n",
    "\n",
    "        if coefs[0]:\n",
    "            terms.append(str(coefs[0]))\n",
    "        if self.degree() and coefs[1]:\n",
    "            terms.append(f\"{'' if coefs[1] == 1 else coefs[1]}x\")\n",
    "\n",
    "        terms += [f\"{'' if c == 1 else c}x^{d}\"\n",
    "                  for d, c in enumerate(coefs[2:], start=2) if c]\n",
    "\n",
    "        return \" + \".join(reversed(terms)) or \"0\"\n",
    "\n",
    "    def __repr__(self):\n",
    "        return self.__class__.__name__ + \"(\" + repr(self.coefficients) + \")\"\n",
    "\n",
    "    def __eq__(self, other):\n",
    "\n",
    "        return isinstance(other, Polynomial) and\\\n",
    "             self.coefficients == other.coefficients\n",
    "\n",
    "    def __add__(self, other):\n",
    "\n",
    "        if isinstance(other, Polynomial):\n",
    "            common = min(self.degree(), other.degree()) + 1\n",
    "            coefs = tuple(a + b for a, b in zip(self.coefficients,\n",
    "                                                other.coefficients))\n",
    "            coefs += self.coefficients[common:] + other.coefficients[common:]\n",
    "\n",
    "            return Polynomial(coefs)\n",
    "\n",
    "        elif isinstance(other, Number):\n",
    "            return Polynomial((self.coefficients[0] + other,)\n",
    "                              + self.coefficients[1:])\n",
    "\n",
    "        else:\n",
    "            return NotImplemented\n",
    "\n",
    "    def __radd__(self, other):\n",
    "        return self + other\n",
    "\n",
    "    def __sub__(self, other):\n",
    "\n",
    "        if isinstance(other, Polynomial):\n",
    "            common = min(self.degree(), other.degree()) + 1\n",
    "            coefs = tuple(a - b for a, b in zip(self.coefficients,\n",
    "                                                other.coefficients))\n",
    "            coefs += self.coefficients[common:] + tuple(numpy.subtract((0),other.coefficients[common:]))\n",
    "            \n",
    "\n",
    "            return Polynomial(coefs)\n",
    "\n",
    "        elif isinstance(other, Number):\n",
    "            return Polynomial((self.coefficients[0] - other,)\n",
    "                              + self.coefficients[1:])\n",
    "\n",
    "        else:\n",
    "            return NotImplemented\n",
    "        \n",
    "    def __rsub__(self, other):\n",
    "        return Polynomial(tuple(numpy.subtract((0),(self - other).coefficients)))\n",
    "    \n",
    "    \n",
    "    def __mul__(self, other):\n",
    "        if isinstance(other, Polynomial):\n",
    "            return Polynomial(tuple(convolve(self.coefficients,other.coefficients)))\n",
    "            \n",
    "        elif isinstance(other, Number):\n",
    "            return Polynomial(tuple(numpy.multiply(self.coefficients, other)))   \n",
    "        \n",
    "    def __rmul__(self, other):\n",
    "        return self*other\n",
    "\n",
    "    \n",
    "    def __pow__(self, other):\n",
    "        if other == 0:\n",
    "            return 1\n",
    "        else:\n",
    "            i = 1\n",
    "            p0=self\n",
    "            while i < other:\n",
    "                p0=p0*self \n",
    "                i += 1\n",
    "            return Polynomial(tuple(p0.coefficients))\n",
    "\n",
    "    def __call__(self, other):\n",
    "            val=self.coefficients[0]\n",
    "            for x in range(1,len(self.coefficients)):\n",
    "                val = val + self.coefficients[(len(self.coefficients)-x)]*(other**(len(self.coefficients)-x))\n",
    "                \n",
    "            return val\n",
    "\n",
    "    def dx(self): \n",
    "        if len(self.coefficients)==1:\n",
    "            return Polynomial((0,))\n",
    "        else:\n",
    "            dcoefficients=tuple(self.coefficients[x]*(x) for x in range(1,len(self.coefficients)))\n",
    "            return Polynomial(dcoefficients)"
   ]
  },
  {
   "cell_type": "code",
   "execution_count": 109,
   "metadata": {},
   "outputs": [],
   "source": [
    "def derivative(obj): \n",
    "    if len(obj.coefficients)==1:\n",
    "        return Polynomial((0,))\n",
    "    else:\n",
    "        dcoefficients=tuple(obj.coefficients[x]*(x) for x in range(1,len(obj.coefficients)))\n",
    "        return Polynomial(dcoefficients)"
   ]
  },
  {
   "cell_type": "code",
   "execution_count": 110,
   "metadata": {},
   "outputs": [
    {
     "data": {
      "text/plain": [
       "Polynomial((0,))"
      ]
     },
     "execution_count": 110,
     "metadata": {},
     "output_type": "execute_result"
    }
   ],
   "source": [
    "derivative(Polynomial((1, )))"
   ]
  },
  {
   "cell_type": "code",
   "execution_count": 105,
   "metadata": {},
   "outputs": [
    {
     "data": {
      "text/plain": [
       "Polynomial((0,))"
      ]
     },
     "execution_count": 105,
     "metadata": {},
     "output_type": "execute_result"
    }
   ],
   "source": [
    "derivative(Polynomial((1, )))"
   ]
  },
  {
   "cell_type": "code",
   "execution_count": 106,
   "metadata": {},
   "outputs": [
    {
     "ename": "ImportError",
     "evalue": "cannot import name 'derivative' from 'polynomials' (C:\\Users\\kates\\Documents\\principles_of_programming\\exercises-chapter-3-KateWenqiZhu\\polynomials\\polynomials.py)",
     "output_type": "error",
     "traceback": [
      "\u001b[1;31m---------------------------------------------------------------------------\u001b[0m",
      "\u001b[1;31mImportError\u001b[0m                               Traceback (most recent call last)",
      "\u001b[1;32m<ipython-input-106-bab57f03e66c>\u001b[0m in \u001b[0;36m<module>\u001b[1;34m\u001b[0m\n\u001b[1;32m----> 1\u001b[1;33m \u001b[1;32mfrom\u001b[0m \u001b[0mpolynomials\u001b[0m \u001b[1;32mimport\u001b[0m \u001b[0mderivative\u001b[0m\u001b[1;33m\u001b[0m\u001b[1;33m\u001b[0m\u001b[0m\n\u001b[0m\u001b[0;32m      2\u001b[0m \u001b[1;32mfrom\u001b[0m \u001b[0mpolynomials\u001b[0m \u001b[1;32mimport\u001b[0m \u001b[0mPolynomial\u001b[0m\u001b[1;33m\u001b[0m\u001b[1;33m\u001b[0m\u001b[0m\n\u001b[0;32m      3\u001b[0m \u001b[0mderivative\u001b[0m\u001b[1;33m(\u001b[0m\u001b[0mPolynomial\u001b[0m\u001b[1;33m(\u001b[0m\u001b[1;33m(\u001b[0m\u001b[1;36m1\u001b[0m\u001b[1;33m,\u001b[0m\u001b[1;36m0\u001b[0m\u001b[1;33m)\u001b[0m\u001b[1;33m)\u001b[0m\u001b[1;33m)\u001b[0m\u001b[1;33m\u001b[0m\u001b[1;33m\u001b[0m\u001b[0m\n",
      "\u001b[1;31mImportError\u001b[0m: cannot import name 'derivative' from 'polynomials' (C:\\Users\\kates\\Documents\\principles_of_programming\\exercises-chapter-3-KateWenqiZhu\\polynomials\\polynomials.py)"
     ]
    }
   ],
   "source": [
    "from polynomials import derivative\n",
    "from polynomials import Polynomial\n",
    "derivative(Polynomial((1,0)))"
   ]
  },
  {
   "cell_type": "code",
   "execution_count": null,
   "metadata": {},
   "outputs": [],
   "source": []
  }
 ],
 "metadata": {
  "kernelspec": {
   "display_name": "Python 3",
   "language": "python",
   "name": "python3"
  },
  "language_info": {
   "codemirror_mode": {
    "name": "ipython",
    "version": 3
   },
   "file_extension": ".py",
   "mimetype": "text/x-python",
   "name": "python",
   "nbconvert_exporter": "python",
   "pygments_lexer": "ipython3",
   "version": "3.8.5"
  }
 },
 "nbformat": 4,
 "nbformat_minor": 4
}
